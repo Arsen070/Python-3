{
  "metadata": {
    "language_info": {
      "codemirror_mode": {
        "name": "python",
        "version": 3
      },
      "file_extension": ".py",
      "mimetype": "text/x-python",
      "name": "python",
      "nbconvert_exporter": "python",
      "pygments_lexer": "ipython3",
      "version": "3.8"
    },
    "kernelspec": {
      "name": "python",
      "display_name": "Pyolite",
      "language": "python"
    }
  },
  "nbformat_minor": 4,
  "nbformat": 4,
  "cells": [
    {
      "cell_type": "markdown",
      "source": "#####  1.1 Գրել ֆունկցիա, որը կվերադարձնի լիստում եղած ամենամեծ թիվը։\n",
      "metadata": {}
    },
    {
      "cell_type": "code",
      "source": "def max_ret(lst):\n  largest_number = lst[0]\n\n  for number in lst:\n    if number > largest_number:\n        largest_number = number\n  return largest_number\nlist_1 = [100, 2, 300, 10, 11, 1000]\nprint(max_ret(list_1))",
      "metadata": {
        "trusted": true
      },
      "execution_count": 3,
      "outputs": [
        {
          "name": "stdout",
          "text": "1000\n",
          "output_type": "stream"
        }
      ]
    },
    {
      "cell_type": "markdown",
      "source": "#####   1.2.Գրել ֆունկցիա, որը օգտագործելով նախորդ խնդրի լուծումը կստանա մատրից և կվերադարձնի լիստ, որը պարունակում է մատրիցի յուրաքաչյուր տողի ամենամեծ թիվը։",
      "metadata": {}
    },
    {
      "cell_type": "code",
      "source": " a = ([[1, 2, 3, -15],\n      [3, 4, -5, 0],\n      [8, -175, 25, 15]])\n\nlist_max = []\n\ndef f_1(m_1):\n\n  for i in range(len(a)):\n    max_of_row = max_ret(a[i])\n    list_max.append(max_of_row)\n  return list_max  \n\nprint(f_1(a))  ",
      "metadata": {
        "trusted": true
      },
      "execution_count": 5,
      "outputs": [
        {
          "name": "stdout",
          "text": "[3, 4, 25]\n",
          "output_type": "stream"
        }
      ]
    },
    {
      "cell_type": "markdown",
      "source": "##### 2.1 Գրել ֆունկցիա որը կհաշվի տրված թվի ֆակտորալը։",
      "metadata": {}
    },
    {
      "cell_type": "code",
      "source": "def f_factorial(x):\n    if x == 1 or x == 0:\n        return 1\n    else:\n        return (x * f_factorial(x-1))\n\nprint(f_factorial(0))\nprint(f_factorial(1))\nprint(f_factorial(5))",
      "metadata": {
        "trusted": true
      },
      "execution_count": 6,
      "outputs": [
        {
          "name": "stdout",
          "text": "1\n1\n120\n",
          "output_type": "stream"
        }
      ]
    },
    {
      "cell_type": "markdown",
      "source": "##### 2.2 Գրել ֆունկցիա որը օգտագործելով նախորդ խնդրի լուծումը կստանա մատրից և   \n##### կվերադարձնի լիստ, որը պարունակում է մատրիցի երկորդական անկյունագծի թվերի ֆակտորիալները։",
      "metadata": {}
    },
    {
      "cell_type": "code",
      "source": "def f_factorial(x):\n    if x == 1 or x == 0:\n        return 1\n    else:\n        return (x * f_factorial(x-1))\n\na = ([[1, 2, 3, -15],\n      [3, 4, -5, 0],\n      [8, -175, 25, 15],\n      [4, 7, 5, 75]])\nlist_of_fact = []\n\ndef factorial_1(matrix_1):\n  for i in range(len(matrix_1), 0, -1):\n    y = matrix_1[len(matrix_1)-i][i-1]\n    x = f_factorial(abs(y))  # ete abs chanenq if y>=0 ...\n    list_of_fact.append(x)\n\n  return list_of_fact\n\nprint(factorial_1(a))\n\n#for i in range(len(a), 0, -1):\n#  print(i, len(a)-i+1)\n",
      "metadata": {
        "trusted": true
      },
      "execution_count": 7,
      "outputs": [
        {
          "name": "stdout",
          "text": "[1307674368000, 120, 1124449491085736328304109938642204255210926338928074644824004638489082006275333290972493383366025810760784721148670387931016867466241864043097971934380608571667663656813479380532220559625623957805983663469624056384461365161184611811666936997356618263665919666081369067104501760000000000000000000000000000000000000000000, 24]\n",
          "output_type": "stream"
        }
      ]
    },
    {
      "cell_type": "markdown",
      "source": "##### 3.1 Գրել ֆունկցիա, որը կստանա լիստ և կհաշվի լիստում եղած թվերի միջին թվաբանականը։",
      "metadata": {}
    },
    {
      "cell_type": "code",
      "source": "def aver(list_1):\n  return sum(list_1)/len(list_1)\n\nlst = [1, 2, 3, -15]\nprint(aver(lst))",
      "metadata": {
        "trusted": true
      },
      "execution_count": 8,
      "outputs": [
        {
          "name": "stdout",
          "text": "-2.25\n",
          "output_type": "stream"
        }
      ]
    },
    {
      "cell_type": "markdown",
      "source": "##### 3.2 Գրել ֆունկցիա, որը կստանա մատրից և կվերադարձնի լիստ, որը պարունակում է \n#####   մատրիցի յուրաքանչյուր սյան միջին թվաբանականը։",
      "metadata": {}
    },
    {
      "cell_type": "code",
      "source": "a = ([[1, 2, 3, -15],\n      [3, 4, -5, 0],\n      [8, -175, 25, 15],\n      [4, 7, 5, 75]])\n\nlst_2 = []\n\ndef aver_of_rows(m_2):\n  for i in range(len(a)):\n    z = sum(a[i])/len(a[i])\n    lst_2.append(z)\n  return lst_2  \n\nprint(aver_of_rows(a))",
      "metadata": {
        "trusted": true
      },
      "execution_count": 9,
      "outputs": [
        {
          "name": "stdout",
          "text": "[-2.25, 0.5, -31.75, 22.75]\n",
          "output_type": "stream"
        }
      ]
    },
    {
      "cell_type": "markdown",
      "source": "##### 4.1 Գրել ֆունկցիա որը կստանա լիստ և կստուգի արդյոք լիստում եղած թվերը դասավորված են ըստ աճման։",
      "metadata": {}
    },
    {
      "cell_type": "code",
      "source": "lst_2 = [1, 2, 3, 4]\ndef f_2(lst_3):\n  if lst_3 == sorted(lst_3):\n    return True\n  else:\n    return False\n\nprint(f_2(lst_2))\n",
      "metadata": {
        "trusted": true
      },
      "execution_count": 10,
      "outputs": [
        {
          "name": "stdout",
          "text": "True\n",
          "output_type": "stream"
        }
      ]
    },
    {
      "cell_type": "markdown",
      "source": "##### 4.2 Գրել ֆունկցիա, որը կստանա մատրից և կվերադարձնի լիստ, որը պարունակում է բոլոր այն տողերի ինդեքսները, որոնք դասավորված են ըստ աճման։",
      "metadata": {}
    },
    {
      "cell_type": "code",
      "source": "b = ([[1, 2, 3, 4],\n      [3, 4, 5, 6],\n      [8, -175, 25, 15],\n      [4, 7, 5, 75]])\n\nlst_3 = []\ndef f_3(matrix_3):\n  for i in range(len(matrix_3)):\n    if matrix_3[i] == sorted(matrix_3[i]):\n      lst_3.append(i)\n  return lst_3      \n\nprint(f_3(a))\nprint(f_3(b))  \n",
      "metadata": {
        "trusted": true
      },
      "execution_count": 12,
      "outputs": [
        {
          "name": "stdout",
          "text": "[]\n[0, 1]\n",
          "output_type": "stream"
        }
      ]
    },
    {
      "cell_type": "code",
      "source": "",
      "metadata": {},
      "execution_count": null,
      "outputs": []
    }
  ]
}