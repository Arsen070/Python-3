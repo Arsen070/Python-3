{
  "metadata": {
    "language_info": {
      "codemirror_mode": {
        "name": "python",
        "version": 3
      },
      "file_extension": ".py",
      "mimetype": "text/x-python",
      "name": "python",
      "nbconvert_exporter": "python",
      "pygments_lexer": "ipython3",
      "version": "3.8"
    },
    "kernelspec": {
      "name": "python",
      "display_name": "Pyolite",
      "language": "python"
    }
  },
  "nbformat_minor": 4,
  "nbformat": 4,
  "cells": [
    {
      "cell_type": "code",
      "source": "# 1in tarberak Մեթոդը պետք է հեռացնի լիստից բոլոր այ էլեմենտները որոնք հավասար են իրենղ նախորդ էլեմենտին և վերադարձնի լիստը։\nlst=[1,2,2,4,5,5]\nfor i in range(len(lst)-2):\n  if lst[i]==lst[i+1]:\n    lst.remove(lst[i])\nlst",
      "metadata": {
        "trusted": true
      },
      "execution_count": 1,
      "outputs": [
        {
          "execution_count": 1,
          "output_type": "execute_result",
          "data": {
            "text/plain": "[1, 2, 4, 5]"
          },
          "metadata": {}
        }
      ]
    },
    {
      "cell_type": "code",
      "source": "# 2rd tarberak Մեթոդը պետք է հեռացնի լիստից բոլոր այ էլեմենտները որոնք հավասար են իրենղ նախորդ էլեմենտին և վերադարձնի լիստը։\nlst = [1, 2, 3, 7, 8, 8, 9]\ndef deduplicate(lst):\n    lst1 = []\n    for i in range(len(lst)):\n        if lst[i]!=lst[i-1]:\n            lst1.append(lst[i])\n    print(lst1)\ndeduplicate(lst)",
      "metadata": {
        "trusted": true
      },
      "execution_count": 2,
      "outputs": [
        {
          "name": "stdout",
          "text": "[1, 2, 3, 7, 8, 9]\n",
          "output_type": "stream"
        }
      ]
    },
    {
      "cell_type": "code",
      "source": " #Մեթոդը պետք է սորտավորի որպես արգումենտ ստացած matrix-ի տողերը այնպես, որ դրանք դասավորված լինեն ըստ տողի էլեմենտների գումարի աճման։\nmatrix=[(0,1,2),(4,5,6),(0,1,1),(10,11,12)]\ndef  fsum(lst):\n   s=0\n   for x in lst:\n     s+=x\n   return s\nfor i in range(len(matrix)-1):\n  for j in range(i+1,len(matrix)):\n    if fsum(matrix[j])<fsum(matrix[i]):\n      matrix[i],matrix[j]=matrix[j],matrix[i]\nmatrix",
      "metadata": {
        "trusted": true
      },
      "execution_count": 3,
      "outputs": [
        {
          "execution_count": 3,
          "output_type": "execute_result",
          "data": {
            "text/plain": "[(0, 1, 1), (0, 1, 2), (4, 5, 6), (10, 11, 12)]"
          },
          "metadata": {}
        }
      ]
    },
    {
      "cell_type": "code",
      "source": "#Մեթոդը պետք է հեռացնի որպես արգումենտ ստացած matrix մատրիցի բոլոր այն սյունները, որոնց էլեմենտների գումարը բացասական է։\nmatrix=[[1,-5,7],[-4,1,-8],[-6,7,8],[-1,2,0]]\n\ndef columns(matrix):\n    b=[]\n    c=[]\n    d=[]\n    for i in range(len(matrix[0])):\n        for j in range(len(matrix)):\n            b.append(matrix[j][i])\n        c.append(b)\n        b=[]\n    return(c)\ndef remove_negative_sum(c):\n    q=[]\n    for i in range(len(c)):\n        if sum(c[i])>0:\n            q.append(c[i])\n    return (q)\n\nprint((columns(remove_negative_sum(columns(matrix)))))",
      "metadata": {
        "trusted": true
      },
      "execution_count": 4,
      "outputs": [
        {
          "name": "stdout",
          "text": "[[6, 7], [1, -8], [7, 8], [2, 0]]\n",
          "output_type": "stream"
        }
      ]
    },
    {
      "cell_type": "code",
      "source": "#Մեթոդը պետք է որպես արգումենտ ստացած matrix մատրիցի սյուներից պահպանի միայն նրանք, որոնք պարունակում են և զույգ և կենտ էլեմենտներ։\ndef is_even(n):\n    if n%2==0:\n        return True\n    return False\ndef matrix_odd_even_columns(matrix):\n    for i in range(len(matrix)):\n        e=0\n        o=0\n        for j in range(len(matrix[0])):\n            if is_even(matrix[i][j]):\n                e+=1\n            else:\n                o+=1\n        if e!=0 and o!=0:\n            print(matrix[i])\nmatrix=[[1,-5,7],[-4,1,-8],[-6,4,8],[6,2,7]]\nmatrix_odd_even_columns(matrix)",
      "metadata": {
        "trusted": true
      },
      "execution_count": 6,
      "outputs": [
        {
          "name": "stdout",
          "text": "[-4, 1, -8]\n[6, 2, 7]\n",
          "output_type": "stream"
        }
      ]
    },
    {
      "cell_type": "code",
      "source": "def matrix_odd_even_columns(matrix):\n    while i < len(matrix[0]):\n        a = 0\n        b = 0\n        col = [row[i] for row in matrix]\n        for j in col:\n            if j % 2 == 0:\n                a += 1\n            else:\n                b += 1\n        if a == 0 or b == 0:\n            for k in range(len(matrix)):\n                matrix[k].pop(i)\n        else:\n          i += 1\n    return matrix",
      "metadata": {
        "trusted": true
      },
      "execution_count": 7,
      "outputs": []
    },
    {
      "cell_type": "code",
      "source": "#def odd(n):\n  if n % 2 != 0:\n    return True\n  return False\ndef matrix_odd_even_columns(matrix):\n  c = []\n  for i in range(len(matrix)):\n    a = 0\n    b = 0\n    for j in range (len(matrix)):\n      if odd(matrix[i][j]):\n        a += 1\n      else:\n        b += 1\n    if a != 0 and b != 0:\n      c.append(matrix[i])\n  return c\ndef col(a):\n  b = []\n  c = []\n  for i in range(len(a)):\n    for j in range(len(a[0])):\n      b.append(a[i][j])\n      c.append(b)\n      b = []\n    return c  \n#matrix1 = [[2, 3, 4], [6, 8, 4], [9, 7, 4]] \n#matrix_odd_even_columns(col(matrix1))",
      "metadata": {
        "trusted": true
      },
      "execution_count": 12,
      "outputs": [
        {
          "ename": "<class 'IndentationError'>",
          "evalue": "unexpected indent (<ipython-input-12-64e3da94d2c2>, line 2)",
          "traceback": [
            "\u001b[0;36m  Input \u001b[0;32mIn [12]\u001b[0;36m\u001b[0m\n\u001b[0;31m    if n % 2 != 0:\u001b[0m\n\u001b[0m    ^\u001b[0m\n\u001b[0;31mIndentationError\u001b[0m\u001b[0;31m:\u001b[0m unexpected indent\n"
          ],
          "output_type": "error"
        }
      ]
    },
    {
      "cell_type": "code",
      "source": "#1.1Գրել ֆունկցիա որը կվերադարձնի լիստում եղած ամենամեծ թիվը։\ndef fmax(lst):\n  max=lst[0]\n  for i in range(len(lst)):\n    if lst[i]>max:\n      max=lst[i]\n  return max\nlst=[10,25,14,-8]\nfmax(lst)",
      "metadata": {
        "trusted": true
      },
      "execution_count": 14,
      "outputs": [
        {
          "execution_count": 14,
          "output_type": "execute_result",
          "data": {
            "text/plain": "25"
          },
          "metadata": {}
        }
      ]
    },
    {
      "cell_type": "code",
      "source": "#1.2Գրել ֆունկցիա որը օգտագործելով նախորդ խնդրի լուծումը կստանա մատրից և կվերադարձնի լիստ, որը պարունակում է մատրիցի յուրաքաչյուր տողի ամենամեծ թիվը։\ndef fmax(lst):\n  max=lst[0]\n  for i in range(len(lst)):\n    if lst[i]>max:\n      max=lst[i]\n  return max\n\nmatrix=[(1,2,3),(4,5,6),(7,8,9),(10,11,12)]\nlstmax=[]\nfor x in matrix:\n  lstmax.append(fmax(x))\nlstmax",
      "metadata": {
        "trusted": true
      },
      "execution_count": 15,
      "outputs": [
        {
          "execution_count": 15,
          "output_type": "execute_result",
          "data": {
            "text/plain": "[3, 6, 9, 12]"
          },
          "metadata": {}
        }
      ]
    },
    {
      "cell_type": "code",
      "source": "#2.1Գրել ֆունկցիա որը կհաշվի տրված թվի ֆակտորալը։\ndef ffac(n):\n if n==1 or n==0:\n   return 1\n else:\n    return ffac(n-1)*n\nffac(5)",
      "metadata": {
        "trusted": true
      },
      "execution_count": 16,
      "outputs": [
        {
          "execution_count": 16,
          "output_type": "execute_result",
          "data": {
            "text/plain": "120"
          },
          "metadata": {}
        }
      ]
    },
    {
      "cell_type": "code",
      "source": "#2.2 Գրել ֆունկցիա որը օգտագործելով նախորդ խնդրի լուծումը կստանա մատրից և կվերադարձնի լիստ, որը պարունակում է մատրիցի երկորդական անկյունագծի թվերի ֆակտորիալները։\ndef ffac(n):\n if n==1 or n==0:\n   return 1\n else:\n    return ffac(n-1)*n\n\nmatrix=[(1,2,3),(4,5,6),(7,8,9)]\nlstfac=[]\n",
      "metadata": {
        "trusted": true
      },
      "execution_count": 27,
      "outputs": []
    },
    {
      "cell_type": "code",
      "source": "#3․1 Գրել ֆունկցիա, որը կստանա լիստ և կհաշվի լիստում եղած թվերի միջին թվաբանականը։\ndef fmij(lst):\n  s=0\n  for x in lst:\n    s+=x\n  return s/len(lst)\n\nlst=[1,2,3,4,5]\nfmij(lst) ",
      "metadata": {
        "trusted": true
      },
      "execution_count": 28,
      "outputs": [
        {
          "execution_count": 28,
          "output_type": "execute_result",
          "data": {
            "text/plain": "3.0"
          },
          "metadata": {}
        }
      ]
    },
    {
      "cell_type": "code",
      "source": "#4․1 Գրել ֆունկցիա որը կստանա լիստ և կստուգի արդյոք լիստում եղած թվերը դասավորված են ըստ աճման։\ndef f(lst):\n  for i in range(0,len(lst)-1):\n    if (lst[i]>lst[i+1]):\n      return False\n  return True\nlst=[2,5,1]\nf(lst)",
      "metadata": {
        "trusted": true
      },
      "execution_count": 30,
      "outputs": [
        {
          "execution_count": 30,
          "output_type": "execute_result",
          "data": {
            "text/plain": "False"
          },
          "metadata": {}
        }
      ]
    },
    {
      "cell_type": "code",
      "source": "#4․2 Գրել ֆունկցիա որը կստանա մատրից և կվերադարձնի լիստ, որը պարունակում է բոլոր այն տողերի ինդեքսները, որոնք դասավորված են ըստ աճման։\ndef f(lst):\n  for i in range(0,len(lst)-1):\n    if (lst[i]>lst[i+1]):\n     return False\n  return True\n\nmatrix=[[1,2,3],[256,4,8],[7,8,9]]\nfor i in range(len(matrix)):\n  if f(matrix[i]):\n   print(i)",
      "metadata": {
        "trusted": true
      },
      "execution_count": 31,
      "outputs": [
        {
          "name": "stdout",
          "text": "0\n2\n",
          "output_type": "stream"
        }
      ]
    },
    {
      "cell_type": "code",
      "source": "def f1(m):\n  l1 = []\n  for i in range(len(m)):\n    l = []\n    for j in range(len(m[i])):\n      l.append(m[i][j])\n    l1.append(f(l))\n  return l1   ",
      "metadata": {
        "trusted": true
      },
      "execution_count": 32,
      "outputs": []
    },
    {
      "cell_type": "code",
      "source": "matrix=[(2, 5, 32), (1, 2, 3), (4, 5, 6), (3, 1, 2)]\ndef fsum(lst):\n   s=0\n   for x in lst:\n     s+=x\n   return s\nfor i in range(len(matrix) - 1):\n  if fsum(matrix[i]) > fsum(matrix[i+1]):\n    matrix[i], matrix[i+1]=matrix[i+1], matrix[i]\nprint(matrix)",
      "metadata": {
        "trusted": true
      },
      "execution_count": 33,
      "outputs": [
        {
          "name": "stdout",
          "text": "[(1, 2, 3), (4, 5, 6), (3, 1, 2), (2, 5, 32)]\n",
          "output_type": "stream"
        }
      ]
    },
    {
      "cell_type": "code",
      "source": "#Իմպլեմենտացնել matrix_sort.py ֆայլում սահմանված matrix_sort_by_sum մեթոդը։ Մեթոդը պետք է սորտավորի որպես արգումենտ ստացած matrix-ի տողերը այնպես, որ դրանք դասավորված լինեն ըստ տողի էլեմենտների գումարի աճման։\na = [(0,1,2),(4,5,6),(0,1,1),(10,11,12)]\ndef matrix_sort_by_sum(a):\n  for i in range(len(a)):\n    for j in range(i + 1, len(a)):\n      if sum(a[j]) < sum(a[i]):\n        a[i], a[j] = a[j], a[i]\n  return a\nmatrix_sort_by_sum(a)        ",
      "metadata": {
        "trusted": true
      },
      "execution_count": 34,
      "outputs": [
        {
          "execution_count": 34,
          "output_type": "execute_result",
          "data": {
            "text/plain": "[(0, 1, 1), (0, 1, 2), (4, 5, 6), (10, 11, 12)]"
          },
          "metadata": {}
        }
      ]
    },
    {
      "cell_type": "code",
      "source": "",
      "metadata": {},
      "execution_count": null,
      "outputs": []
    }
  ]
}